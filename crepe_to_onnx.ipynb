{
 "cells": [
  {
   "cell_type": "code",
   "id": "4c1e01e7bc2cb5d5",
   "metadata": {
    "collapsed": true,
    "ExecuteTime": {
     "end_time": "2025-02-14T19:06:21.547245Z",
     "start_time": "2025-02-14T19:06:16.697395Z"
    }
   },
   "source": [
    "import tensorflow as tf\n",
    "\n",
    "from tensorflow.keras.layers import Input, Reshape, Conv2D, BatchNormalization\n",
    "from tensorflow.keras.layers import MaxPool2D, Dropout, Permute, Flatten, Dense\n",
    "from tensorflow.keras.models import Model"
   ],
   "outputs": [
    {
     "name": "stderr",
     "output_type": "stream",
     "text": [
      "2025-02-14 20:06:16.999050: I external/local_xla/xla/tsl/cuda/cudart_stub.cc:32] Could not find cuda drivers on your machine, GPU will not be used.\n",
      "2025-02-14 20:06:17.004634: I external/local_xla/xla/tsl/cuda/cudart_stub.cc:32] Could not find cuda drivers on your machine, GPU will not be used.\n",
      "2025-02-14 20:06:17.019082: E external/local_xla/xla/stream_executor/cuda/cuda_fft.cc:477] Unable to register cuFFT factory: Attempting to register factory for plugin cuFFT when one has already been registered\n",
      "WARNING: All log messages before absl::InitializeLog() is called are written to STDERR\n",
      "E0000 00:00:1739559977.048079 1354516 cuda_dnn.cc:8310] Unable to register cuDNN factory: Attempting to register factory for plugin cuDNN when one has already been registered\n",
      "E0000 00:00:1739559977.059787 1354516 cuda_blas.cc:1418] Unable to register cuBLAS factory: Attempting to register factory for plugin cuBLAS when one has already been registered\n",
      "2025-02-14 20:06:17.092413: I tensorflow/core/platform/cpu_feature_guard.cc:210] This TensorFlow binary is optimized to use available CPU instructions in performance-critical operations.\n",
      "To enable the following instructions: AVX2 FMA, in other operations, rebuild TensorFlow with the appropriate compiler flags.\n"
     ]
    }
   ],
   "execution_count": 1
  },
  {
   "metadata": {
    "ExecuteTime": {
     "end_time": "2025-02-14T19:06:21.559925Z",
     "start_time": "2025-02-14T19:06:21.549761Z"
    }
   },
   "cell_type": "code",
   "source": [
    "def load_existing_model() -> Model:\n",
    "    layers = [1, 2, 3, 4, 5, 6]\n",
    "    filters = [n * 32 for n in [32, 4, 4, 4, 8, 16]]\n",
    "    widths = [512, 64, 64, 64, 64, 64]\n",
    "    strides = [(4, 1), (1, 1), (1, 1), (1, 1), (1, 1), (1, 1)]\n",
    "\n",
    "    x = Input(shape=(1024,), name='input', dtype='float32')\n",
    "    y = Reshape(target_shape=(1024, 1, 1), name='input-reshape')(x)\n",
    "\n",
    "    for l, f, w, s in zip(layers, filters, widths, strides):\n",
    "        y = Conv2D(f, (w, 1), strides=s, padding='same',\n",
    "                   activation='relu', name=\"conv%d\" % l)(y)\n",
    "        y = BatchNormalization(name=\"conv%d-BN\" % l)(y)\n",
    "        y = MaxPool2D(pool_size=(2, 1), strides=None, padding='valid',\n",
    "                      name=\"conv%d-maxpool\" % l)(y)\n",
    "        y = Dropout(0.25, name=\"conv%d-dropout\" % l)(y)\n",
    "\n",
    "    y = Permute((2, 1, 3), name=\"transpose\")(y)\n",
    "    y = Flatten(name=\"flatten\")(y)\n",
    "    y = Dense(360, activation='sigmoid', name=\"classifier\")(y)\n",
    "\n",
    "    model = Model(inputs=x, outputs=y)\n",
    "\n",
    "    model.load_weights('crepe-models/model-full.h5')\n",
    "    model.compile('adam', 'binary_crossentropy')\n",
    "\n",
    "    return model"
   ],
   "id": "initial_id",
   "outputs": [],
   "execution_count": 2
  },
  {
   "metadata": {
    "ExecuteTime": {
     "end_time": "2025-02-14T19:06:22.080925Z",
     "start_time": "2025-02-14T19:06:21.562391Z"
    }
   },
   "cell_type": "code",
   "source": "full_model = load_existing_model()",
   "id": "bd6c692cc3a3087b",
   "outputs": [
    {
     "name": "stderr",
     "output_type": "stream",
     "text": [
      "2025-02-14 20:06:21.573218: E external/local_xla/xla/stream_executor/cuda/cuda_driver.cc:152] failed call to cuInit: INTERNAL: CUDA error: Failed call to cuInit: UNKNOWN ERROR (303)\n"
     ]
    }
   ],
   "execution_count": 3
  },
  {
   "metadata": {
    "ExecuteTime": {
     "end_time": "2025-02-14T19:06:24.598198Z",
     "start_time": "2025-02-14T19:06:22.083141Z"
    }
   },
   "cell_type": "code",
   "source": "full_model.export('crepe-models/full')",
   "id": "e45f234493b29d5f",
   "outputs": [
    {
     "name": "stdout",
     "output_type": "stream",
     "text": [
      "INFO:tensorflow:Assets written to: crepe-models/full/assets\n"
     ]
    },
    {
     "name": "stderr",
     "output_type": "stream",
     "text": [
      "INFO:tensorflow:Assets written to: crepe-models/full/assets\n"
     ]
    },
    {
     "name": "stdout",
     "output_type": "stream",
     "text": [
      "Saved artifact at 'crepe-models/full'. The following endpoints are available:\n",
      "\n",
      "* Endpoint 'serve'\n",
      "  args_0 (POSITIONAL_ONLY): TensorSpec(shape=(None, 1024), dtype=tf.float32, name='input')\n",
      "Output Type:\n",
      "  TensorSpec(shape=(None, 360), dtype=tf.float32, name=None)\n",
      "Captures:\n",
      "  124713142250640: TensorSpec(shape=(), dtype=tf.resource, name=None)\n",
      "  124713142252752: TensorSpec(shape=(), dtype=tf.resource, name=None)\n",
      "  124713142252176: TensorSpec(shape=(), dtype=tf.resource, name=None)\n",
      "  124713142253328: TensorSpec(shape=(), dtype=tf.resource, name=None)\n",
      "  124713142250832: TensorSpec(shape=(), dtype=tf.resource, name=None)\n",
      "  124713142251408: TensorSpec(shape=(), dtype=tf.resource, name=None)\n",
      "  124713142253712: TensorSpec(shape=(), dtype=tf.resource, name=None)\n",
      "  124713142253904: TensorSpec(shape=(), dtype=tf.resource, name=None)\n",
      "  124713142254288: TensorSpec(shape=(), dtype=tf.resource, name=None)\n",
      "  124713142253136: TensorSpec(shape=(), dtype=tf.resource, name=None)\n",
      "  124713142251024: TensorSpec(shape=(), dtype=tf.resource, name=None)\n",
      "  124713142254480: TensorSpec(shape=(), dtype=tf.resource, name=None)\n",
      "  124713138865744: TensorSpec(shape=(), dtype=tf.resource, name=None)\n",
      "  124713138867280: TensorSpec(shape=(), dtype=tf.resource, name=None)\n",
      "  124713138867664: TensorSpec(shape=(), dtype=tf.resource, name=None)\n",
      "  124713138866320: TensorSpec(shape=(), dtype=tf.resource, name=None)\n",
      "  124713138867472: TensorSpec(shape=(), dtype=tf.resource, name=None)\n",
      "  124713138866704: TensorSpec(shape=(), dtype=tf.resource, name=None)\n",
      "  124713138868432: TensorSpec(shape=(), dtype=tf.resource, name=None)\n",
      "  124713138870352: TensorSpec(shape=(), dtype=tf.resource, name=None)\n",
      "  124713138870544: TensorSpec(shape=(), dtype=tf.resource, name=None)\n",
      "  124713138869776: TensorSpec(shape=(), dtype=tf.resource, name=None)\n",
      "  124713138868048: TensorSpec(shape=(), dtype=tf.resource, name=None)\n",
      "  124713138870160: TensorSpec(shape=(), dtype=tf.resource, name=None)\n",
      "  124713138869584: TensorSpec(shape=(), dtype=tf.resource, name=None)\n",
      "  124713138873040: TensorSpec(shape=(), dtype=tf.resource, name=None)\n",
      "  124713138873616: TensorSpec(shape=(), dtype=tf.resource, name=None)\n",
      "  124713138869392: TensorSpec(shape=(), dtype=tf.resource, name=None)\n",
      "  124713138873424: TensorSpec(shape=(), dtype=tf.resource, name=None)\n",
      "  124713138871696: TensorSpec(shape=(), dtype=tf.resource, name=None)\n",
      "  124713138873232: TensorSpec(shape=(), dtype=tf.resource, name=None)\n",
      "  124713138876112: TensorSpec(shape=(), dtype=tf.resource, name=None)\n",
      "  124713138876304: TensorSpec(shape=(), dtype=tf.resource, name=None)\n",
      "  124713138875536: TensorSpec(shape=(), dtype=tf.resource, name=None)\n",
      "  124713138874384: TensorSpec(shape=(), dtype=tf.resource, name=None)\n",
      "  124713138875920: TensorSpec(shape=(), dtype=tf.resource, name=None)\n",
      "  124713138875344: TensorSpec(shape=(), dtype=tf.resource, name=None)\n",
      "  124713138878800: TensorSpec(shape=(), dtype=tf.resource, name=None)\n"
     ]
    }
   ],
   "execution_count": 4
  },
  {
   "metadata": {
    "ExecuteTime": {
     "end_time": "2025-02-14T19:06:34.672228Z",
     "start_time": "2025-02-14T19:06:24.600931Z"
    }
   },
   "cell_type": "code",
   "source": "!python -m tf2onnx.convert --saved-model \"crepe-models/full\" --output \"crepe-models/crepe-full.onnx\"",
   "id": "c50097c2394e448c",
   "outputs": [
    {
     "name": "stdout",
     "output_type": "stream",
     "text": [
      "2025-02-14 20:06:25.015954: I external/local_xla/xla/tsl/cuda/cudart_stub.cc:32] Could not find cuda drivers on your machine, GPU will not be used.\r\n",
      "2025-02-14 20:06:25.018683: I external/local_xla/xla/tsl/cuda/cudart_stub.cc:32] Could not find cuda drivers on your machine, GPU will not be used.\r\n",
      "2025-02-14 20:06:25.025951: E external/local_xla/xla/stream_executor/cuda/cuda_fft.cc:477] Unable to register cuFFT factory: Attempting to register factory for plugin cuFFT when one has already been registered\r\n",
      "WARNING: All log messages before absl::InitializeLog() is called are written to STDERR\r\n",
      "E0000 00:00:1739559985.038664 1354618 cuda_dnn.cc:8310] Unable to register cuDNN factory: Attempting to register factory for plugin cuDNN when one has already been registered\r\n",
      "E0000 00:00:1739559985.042531 1354618 cuda_blas.cc:1418] Unable to register cuBLAS factory: Attempting to register factory for plugin cuBLAS when one has already been registered\r\n",
      "2025-02-14 20:06:25.056434: I tensorflow/core/platform/cpu_feature_guard.cc:210] This TensorFlow binary is optimized to use available CPU instructions in performance-critical operations.\r\n",
      "To enable the following instructions: AVX2 FMA, in other operations, rebuild TensorFlow with the appropriate compiler flags.\r\n",
      "<frozen runpy>:128: RuntimeWarning: 'tf2onnx.convert' found in sys.modules after import of package 'tf2onnx', but prior to execution of 'tf2onnx.convert'; this may result in unpredictable behaviour\r\n",
      "2025-02-14 20:06:27,787 - WARNING - ***IMPORTANT*** Installed protobuf is not cpp accelerated. Conversion will be extremely slow. See https://github.com/onnx/tensorflow-onnx/issues/1557\r\n",
      "2025-02-14 20:06:27.788420: E external/local_xla/xla/stream_executor/cuda/cuda_driver.cc:152] failed call to cuInit: INTERNAL: CUDA error: Failed call to cuInit: UNKNOWN ERROR (303)\r\n",
      "2025-02-14 20:06:27,790 - WARNING - '--tag' not specified for saved_model. Using --tag serve\r\n",
      "2025-02-14 20:06:28,571 - INFO - Signatures found in model: [serve,serving_default].\r\n",
      "2025-02-14 20:06:28,571 - WARNING - '--signature_def' not specified, using first signature: serve\r\n",
      "2025-02-14 20:06:28,571 - INFO - Output names: ['output_0']\r\n",
      "I0000 00:00:1739559988.611791 1354618 devices.cc:67] Number of eligible GPUs (core count >= 8, compute capability >= 0.0): 0\r\n",
      "WARNING: All log messages before absl::InitializeLog() is called are written to STDERR\r\n",
      "I0000 00:00:1739559988.611979 1354618 single_machine.cc:361] Starting new session\r\n",
      "I0000 00:00:1739559990.503831 1354618 devices.cc:67] Number of eligible GPUs (core count >= 8, compute capability >= 0.0): 0\r\n",
      "I0000 00:00:1739559990.503991 1354618 single_machine.cc:361] Starting new session\r\n",
      "2025-02-14 20:06:32,089 - INFO - Using tensorflow=2.18.0, onnx=1.17.0, tf2onnx=1.16.1/15c810\r\n",
      "2025-02-14 20:06:32,089 - INFO - Using opset <onnx, 15>\r\n",
      "2025-02-14 20:06:32,473 - INFO - Computed 0 values for constant folding\r\n",
      "2025-02-14 20:06:32,981 - INFO - Optimizing ONNX model\r\n",
      "2025-02-14 20:06:33,389 - INFO - After optimization: Cast -3 (3->0), Concat -1 (1->0), Const -14 (42->28), Identity -2 (2->0), Shape -1 (1->0), Slice -1 (1->0), Squeeze -1 (1->0), Transpose -24 (25->1), Unsqueeze -4 (4->0)\r\n",
      "2025-02-14 20:06:33,487 - INFO - \r\n",
      "2025-02-14 20:06:33,487 - INFO - Successfully converted TensorFlow model crepe-models/full to ONNX\r\n",
      "2025-02-14 20:06:33,487 - INFO - Model inputs: ['input']\r\n",
      "2025-02-14 20:06:33,487 - INFO - Model outputs: ['output_0']\r\n",
      "2025-02-14 20:06:33,487 - INFO - ONNX model is saved at crepe-models/crepe-full.onnx\r\n"
     ]
    }
   ],
   "execution_count": 5
  },
  {
   "metadata": {
    "ExecuteTime": {
     "end_time": "2025-02-14T19:06:34.675740Z",
     "start_time": "2025-02-14T19:06:34.673576Z"
    }
   },
   "cell_type": "code",
   "source": "",
   "id": "818b2dc126c5de65",
   "outputs": [],
   "execution_count": 5
  }
 ],
 "metadata": {
  "kernelspec": {
   "display_name": "Python 3",
   "language": "python",
   "name": "python3"
  },
  "language_info": {
   "codemirror_mode": {
    "name": "ipython",
    "version": 2
   },
   "file_extension": ".py",
   "mimetype": "text/x-python",
   "name": "python",
   "nbconvert_exporter": "python",
   "pygments_lexer": "ipython2",
   "version": "2.7.6"
  }
 },
 "nbformat": 4,
 "nbformat_minor": 5
}
